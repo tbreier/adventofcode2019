{
 "cells": [
  {
   "cell_type": "code",
   "execution_count": 22,
   "metadata": {},
   "outputs": [
    {
     "name": "stdout",
     "output_type": "stream",
     "text": [
      "[61302, 105953, 129165, 121039, 64799, 120172, 147328, 65147, 123112, 103573, 85213, 130378, 115416, 129131, 88809, 147043, 86119, 138383, 136803, 66719, 59465, 122491, 126551, 110028, 96959, 115214, 83823, 109324, 148671, 70505, 96375, 83861, 62724, 77493, 122275, 112894, 143872, 93525, 50526, 140725, 147110, 115859, 137582, 143800, 68830, 130259, 122393, 64373, 51810, 62449, 143889, 108038, 55083, 59927, 77613, 67488, 91711, 67498, 147320, 65348, 101088, 51983, 97705, 61890, 74561, 128456, 76450, 95132, 78835, 142148, 128037, 71497, 138382, 143474, 54236, 104095, 121533, 136757, 123213, 66306, 83269, 90894, 82215, 143024, 117140, 128722, 139823, 87177, 58107, 94303, 70008, 130633, 114210, 67931, 59062, 125819, 127278, 118718, 70968, 66126]\n"
     ]
    }
   ],
   "source": [
    "import numpy as np\n",
    "\n",
    "masses = []\n",
    "\n",
    "with open('day01.txt', 'r') as f:\n",
    "    for line in f:\n",
    "        masses.append(int(line))\n",
    "        \n",
    "print(masses)"
   ]
  },
  {
   "cell_type": "markdown",
   "metadata": {},
   "source": [
    "### Star 1"
   ]
  },
  {
   "cell_type": "code",
   "execution_count": 23,
   "metadata": {},
   "outputs": [
    {
     "name": "stdout",
     "output_type": "stream",
     "text": [
      "[20432, 35315, 43053, 40344, 21597, 40055, 49107, 21713, 41035, 34522, 28402, 43457, 38470, 43041, 29601, 49012, 28704, 46125, 45599, 22237, 19819, 40828, 42181, 36674, 32317, 38402, 27939, 36439, 49555, 23499, 32123, 27951, 20906, 25829, 40756, 37629, 47955, 31173, 16840, 46906, 49034, 38617, 45858, 47931, 22941, 43417, 40795, 21455, 17268, 20814, 47961, 36010, 18359, 19973, 25869, 22494, 30568, 22497, 49104, 21780, 33694, 17325, 32566, 20628, 24851, 42816, 25481, 31708, 26276, 47380, 42677, 23830, 46125, 47822, 18076, 34696, 40509, 45583, 41069, 22100, 27754, 30296, 27403, 47672, 39044, 42905, 46605, 29057, 19367, 31432, 23334, 43542, 38068, 22641, 19685, 41937, 42424, 39570, 23654, 22040]\n"
     ]
    }
   ],
   "source": [
    "fuels = [int(m/3) - 2 for m in masses]\n",
    "print(fuels)"
   ]
  },
  {
   "cell_type": "code",
   "execution_count": 24,
   "metadata": {},
   "outputs": [
    {
     "name": "stdout",
     "output_type": "stream",
     "text": [
      "3363929\n"
     ]
    }
   ],
   "source": [
    "fuel = np.sum(fuels)\n",
    "print(fuel)"
   ]
  },
  {
   "cell_type": "markdown",
   "metadata": {},
   "source": [
    "### Star 2"
   ]
  },
  {
   "cell_type": "code",
   "execution_count": 25,
   "metadata": {},
   "outputs": [],
   "source": [
    "def compute_fuel(mass):\n",
    "    additional_fuel = int(mass/3) - 2\n",
    "    additional_fuel = 0 if additional_fuel < 0 else additional_fuel\n",
    "    \n",
    "    fuel = additional_fuel\n",
    "    \n",
    "    while additional_fuel > 0:\n",
    "        additional_fuel = int(additional_fuel/3) - 2\n",
    "        additional_fuel = 0 if additional_fuel < 0 else additional_fuel\n",
    "        fuel += additional_fuel\n",
    "    \n",
    "    return fuel"
   ]
  },
  {
   "cell_type": "code",
   "execution_count": 26,
   "metadata": {},
   "outputs": [
    {
     "data": {
      "text/plain": [
       "50346"
      ]
     },
     "execution_count": 26,
     "metadata": {},
     "output_type": "execute_result"
    }
   ],
   "source": [
    "compute_fuel(100756)"
   ]
  },
  {
   "cell_type": "code",
   "execution_count": 27,
   "metadata": {},
   "outputs": [
    {
     "name": "stdout",
     "output_type": "stream",
     "text": [
      "[30621, 52945, 64551, 60489, 32368, 60052, 73631, 32541, 61522, 51755, 42574, 65154, 57674, 64533, 44373, 73489, 43029, 69159, 68366, 33328, 29702, 61214, 63242, 54981, 48448, 57574, 41879, 54628, 74301, 35221, 48155, 41900, 31332, 38714, 61104, 56414, 71903, 46731, 25233, 70331, 73521, 57895, 68756, 71867, 34384, 65096, 61163, 32154, 25876, 31195, 71912, 53986, 27512, 29932, 38775, 33713, 45822, 33718, 73627, 32641, 50514, 25960, 48820, 30915, 37248, 64194, 38191, 47533, 39387, 71038, 63985, 35717, 69159, 71702, 27087, 52015, 60735, 68344, 61575, 33121, 41604, 45415, 41077, 71478, 58536, 64327, 69878, 43556, 29023, 47120, 34975, 65283, 57074, 33935, 29502, 62877, 63607, 59327, 35453, 33033]\n"
     ]
    }
   ],
   "source": [
    "fuels = [compute_fuel(m) for m in masses]\n",
    "print(fuels)"
   ]
  },
  {
   "cell_type": "code",
   "execution_count": 28,
   "metadata": {},
   "outputs": [
    {
     "name": "stdout",
     "output_type": "stream",
     "text": [
      "5043026\n"
     ]
    }
   ],
   "source": [
    "fuel = np.sum(fuels)\n",
    "print(fuel)"
   ]
  }
 ],
 "metadata": {
  "kernelspec": {
   "display_name": "Python 3",
   "language": "python",
   "name": "python3"
  },
  "language_info": {
   "codemirror_mode": {
    "name": "ipython",
    "version": 3
   },
   "file_extension": ".py",
   "mimetype": "text/x-python",
   "name": "python",
   "nbconvert_exporter": "python",
   "pygments_lexer": "ipython3",
   "version": "3.7.3"
  }
 },
 "nbformat": 4,
 "nbformat_minor": 2
}
