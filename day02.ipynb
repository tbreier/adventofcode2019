{
 "cells": [
  {
   "cell_type": "code",
   "execution_count": 21,
   "metadata": {},
   "outputs": [
    {
     "name": "stdout",
     "output_type": "stream",
     "text": [
      "[1, 0, 0, 3, 1, 1, 2, 3, 1, 3, 4, 3, 1, 5, 0, 3, 2, 1, 13, 19, 1, 9, 19, 23, 2, 13, 23, 27, 2, 27, 13, 31, 2, 31, 10, 35, 1, 6, 35, 39, 1, 5, 39, 43, 1, 10, 43, 47, 1, 5, 47, 51, 1, 13, 51, 55, 2, 55, 9, 59, 1, 6, 59, 63, 1, 13, 63, 67, 1, 6, 67, 71, 1, 71, 10, 75, 2, 13, 75, 79, 1, 5, 79, 83, 2, 83, 6, 87, 1, 6, 87, 91, 1, 91, 13, 95, 1, 95, 13, 99, 2, 99, 13, 103, 1, 103, 5, 107, 2, 107, 10, 111, 1, 5, 111, 115, 1, 2, 115, 119, 1, 119, 6, 0, 99, 2, 0, 14, 0]\n"
     ]
    }
   ],
   "source": [
    "#import numpy as np\n",
    "\n",
    "with open('day02.txt', 'r') as f:\n",
    "    for line in f:\n",
    "        memory = [int(x) for x in line[:-1].split(',')]\n",
    "        \n",
    "print(memory)"
   ]
  },
  {
   "cell_type": "markdown",
   "metadata": {},
   "source": [
    "### Star 1"
   ]
  },
  {
   "cell_type": "code",
   "execution_count": 22,
   "metadata": {},
   "outputs": [
    {
     "name": "stdout",
     "output_type": "stream",
     "text": [
      "[3790689, 12, 2, 2, 1, 1, 2, 3, 1, 3, 4, 3, 1, 5, 0, 3, 2, 1, 13, 60, 1, 9, 19, 63, 2, 13, 23, 315, 2, 27, 13, 1575, 2, 31, 10, 6300, 1, 6, 35, 6302, 1, 5, 39, 6303, 1, 10, 43, 6307, 1, 5, 47, 6308, 1, 13, 51, 6313, 2, 55, 9, 18939, 1, 6, 59, 18941, 1, 13, 63, 18946, 1, 6, 67, 18948, 1, 71, 10, 18952, 2, 13, 75, 94760, 1, 5, 79, 94761, 2, 83, 6, 189522, 1, 6, 87, 189524, 1, 91, 13, 189529, 1, 95, 13, 189534, 2, 99, 13, 947670, 1, 103, 5, 947671, 2, 107, 10, 3790684, 1, 5, 111, 3790685, 1, 2, 115, 3790687, 1, 119, 6, 0, 99, 2, 0, 14, 0]\n"
     ]
    }
   ],
   "source": [
    "def run_programm(memory, noun, verb):\n",
    "    memory = memory.copy()\n",
    "    memory[1] = noun\n",
    "    memory[2] = verb\n",
    "    \n",
    "    pointer = 0\n",
    "    while True:\n",
    "        opcode = memory[pointer]\n",
    "        if opcode == 99:\n",
    "            break\n",
    "        if opcode == 1:\n",
    "            memory[memory[pointer + 3]] = memory[memory[pointer + 1]] + memory[memory[pointer + 2]]\n",
    "            pointer += 4\n",
    "        elif opcode == 2:\n",
    "            memory[memory[pointer + 3]] = memory[memory[pointer + 1]] * memory[memory[pointer + 2]]\n",
    "            pointer += 4\n",
    "        else:\n",
    "            raise Exception(\"Unknown upcode\")\n",
    "\n",
    "    return memory\n",
    "\n",
    "print(run_programm(memory, 12, 2))"
   ]
  },
  {
   "cell_type": "markdown",
   "metadata": {},
   "source": [
    "### Start 2"
   ]
  },
  {
   "cell_type": "code",
   "execution_count": 23,
   "metadata": {},
   "outputs": [
    {
     "name": "stdout",
     "output_type": "stream",
     "text": [
      "Found result 6533\n"
     ]
    }
   ],
   "source": [
    "for noun in range(100):\n",
    "    for verb in range(100):\n",
    "        result = run_programm(memory, noun, verb)\n",
    "        if result[0] == 19690720:\n",
    "            print(f'Found result {100 * noun + verb}')\n",
    "            break"
   ]
  }
 ],
 "metadata": {
  "kernelspec": {
   "display_name": "Python 3",
   "language": "python",
   "name": "python3"
  },
  "language_info": {
   "codemirror_mode": {
    "name": "ipython",
    "version": 3
   },
   "file_extension": ".py",
   "mimetype": "text/x-python",
   "name": "python",
   "nbconvert_exporter": "python",
   "pygments_lexer": "ipython3",
   "version": "3.7.3"
  }
 },
 "nbformat": 4,
 "nbformat_minor": 2
}
